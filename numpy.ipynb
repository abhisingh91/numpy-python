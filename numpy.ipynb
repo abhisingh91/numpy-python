{
 "cells": [
  {
   "cell_type": "code",
   "execution_count": 34,
   "metadata": {},
   "outputs": [],
   "source": [
    "import numpy as np"
   ]
  },
  {
   "cell_type": "markdown",
   "metadata": {},
   "source": [
    "1. Create a numpy array from list"
   ]
  },
  {
   "cell_type": "code",
   "execution_count": 35,
   "metadata": {},
   "outputs": [
    {
     "name": "stdout",
     "output_type": "stream",
     "text": [
      "<class 'numpy.ndarray'> [1 2 3 4]\n"
     ]
    }
   ],
   "source": [
    "arr = [1, 2, 3, 4]\n",
    "nparr = np.array(arr)\n",
    "print(type(nparr), nparr)"
   ]
  },
  {
   "cell_type": "markdown",
   "metadata": {},
   "source": [
    "2. Access elements of a numpy array"
   ]
  },
  {
   "cell_type": "code",
   "execution_count": 36,
   "metadata": {},
   "outputs": [
    {
     "name": "stdout",
     "output_type": "stream",
     "text": [
      "a: 1, b: 2\n"
     ]
    }
   ],
   "source": [
    "a, b = nparr[0], nparr[1]\n",
    "print(f\"a: {a}, b: {b}\")"
   ]
  },
  {
   "cell_type": "markdown",
   "metadata": {},
   "source": [
    "3. Use numpy arrays to perform vector operations"
   ]
  },
  {
   "cell_type": "code",
   "execution_count": 37,
   "metadata": {},
   "outputs": [
    {
     "name": "stdout",
     "output_type": "stream",
     "text": [
      "Addition: [3 5 7 9]\n",
      "Subtraction: [-1 -1 -1 -1]\n",
      "Dot Product: [ 2  6 12 20]\n"
     ]
    }
   ],
   "source": [
    "a = np.array([1, 2, 3, 4])\n",
    "b = np.array([2, 3, 4, 5])\n",
    "\n",
    "# perform vector addititon\n",
    "vec_add = a + b\n",
    "vec_sub = a - b\n",
    "vec_dot = a * b\n",
    "\n",
    "print(f\"Addition: {vec_add}\")\n",
    "print(f\"Subtraction: {vec_sub}\")\n",
    "print(f\"Dot Product: {vec_dot}\")"
   ]
  },
  {
   "cell_type": "markdown",
   "metadata": {},
   "source": [
    "4. Create numpy array of any shape filled with zeros"
   ]
  },
  {
   "cell_type": "code",
   "execution_count": 38,
   "metadata": {},
   "outputs": [
    {
     "name": "stdout",
     "output_type": "stream",
     "text": [
      "[[[0. 0. 0. 0.]\n",
      "  [0. 0. 0. 0.]\n",
      "  [0. 0. 0. 0.]]\n",
      "\n",
      " [[0. 0. 0. 0.]\n",
      "  [0. 0. 0. 0.]\n",
      "  [0. 0. 0. 0.]]]\n"
     ]
    }
   ],
   "source": [
    "# the shape of the array is (2, 3, 4)\n",
    "zero_arr = np.zeros((2, 3, 4))\n",
    "print(zero_arr)"
   ]
  },
  {
   "cell_type": "markdown",
   "metadata": {},
   "source": [
    "5. Create numpy array of any shape filled with ones"
   ]
  },
  {
   "cell_type": "code",
   "execution_count": 39,
   "metadata": {},
   "outputs": [
    {
     "name": "stdout",
     "output_type": "stream",
     "text": [
      "[[[1. 1. 1. 1.]\n",
      "  [1. 1. 1. 1.]\n",
      "  [1. 1. 1. 1.]]\n",
      "\n",
      " [[1. 1. 1. 1.]\n",
      "  [1. 1. 1. 1.]\n",
      "  [1. 1. 1. 1.]]]\n"
     ]
    }
   ],
   "source": [
    "ones_arr = np.ones((2, 3, 4))\n",
    "print(ones_arr)"
   ]
  },
  {
   "cell_type": "markdown",
   "metadata": {},
   "source": [
    "6. Create numpy array of any shape filled with any arbitrary number"
   ]
  },
  {
   "cell_type": "code",
   "execution_count": 40,
   "metadata": {},
   "outputs": [
    {
     "name": "stdout",
     "output_type": "stream",
     "text": [
      "[[[9 9 9 9]\n",
      "  [9 9 9 9]\n",
      "  [9 9 9 9]]\n",
      "\n",
      " [[9 9 9 9]\n",
      "  [9 9 9 9]\n",
      "  [9 9 9 9]]]\n"
     ]
    }
   ],
   "source": [
    "# create a np array filled with number 9\n",
    "num_arr = np.full((2, 3, 4), 9)\n",
    "print(num_arr)"
   ]
  },
  {
   "cell_type": "markdown",
   "metadata": {},
   "source": [
    "7. Create numpy array with random values"
   ]
  },
  {
   "cell_type": "code",
   "execution_count": 41,
   "metadata": {},
   "outputs": [
    {
     "name": "stdout",
     "output_type": "stream",
     "text": [
      "[[0.65444428 0.81410375 0.93808472 0.04691661]\n",
      " [0.81852942 0.08107404 0.02054264 0.70545705]]\n"
     ]
    }
   ],
   "source": [
    "# generates random values between 0 and 1\n",
    "random_arr = np.random.random((2, 4))\n",
    "print(random_arr)"
   ]
  },
  {
   "cell_type": "markdown",
   "metadata": {},
   "source": [
    "8. Generate values in a given range with equal gap "
   ]
  },
  {
   "cell_type": "code",
   "execution_count": 42,
   "metadata": {},
   "outputs": [
    {
     "name": "stdout",
     "output_type": "stream",
     "text": [
      "x: [ 0 10 20 30 40 50 60 70 80 90]\n",
      "Respective values of y for the given x: [   3  103  403  903 1603 2503 3603 4903 6403 8103]\n"
     ]
    }
   ],
   "source": [
    "# generates 10 values in the range [0, 100)\n",
    "x = np.arange(0, 100, 10)\n",
    "print(f\"x: {x}\")\n",
    "\n",
    "# use x as an independent variable to a function y\n",
    "y = x**2 + 3\n",
    "print(f\"Respective values of y for the given x: {y}\")"
   ]
  },
  {
   "cell_type": "markdown",
   "metadata": {},
   "source": [
    "9. Generate a set of evenly distributed values in a given range"
   ]
  },
  {
   "cell_type": "code",
   "execution_count": 43,
   "metadata": {},
   "outputs": [
    {
     "name": "stdout",
     "output_type": "stream",
     "text": [
      "[  0.           7.14285714  14.28571429  21.42857143  28.57142857\n",
      "  35.71428571  42.85714286  50.          57.14285714  64.28571429\n",
      "  71.42857143  78.57142857  85.71428571  92.85714286 100.        ]\n"
     ]
    }
   ],
   "source": [
    "x = np.linspace(0, 100, 15)\n",
    "print(x)"
   ]
  },
  {
   "cell_type": "markdown",
   "metadata": {},
   "source": [
    "10. Find the shape of an array"
   ]
  },
  {
   "cell_type": "code",
   "execution_count": 44,
   "metadata": {},
   "outputs": [
    {
     "data": {
      "text/plain": [
       "(2, 2, 2)"
      ]
     },
     "execution_count": 44,
     "metadata": {},
     "output_type": "execute_result"
    }
   ],
   "source": [
    "a = np.array([\n",
    "    [\n",
    "        [2, 3],\n",
    "        [4, 5]\n",
    "    ],\n",
    "    [\n",
    "        [6, 7],\n",
    "        [3, 9]\n",
    "    ]\n",
    "])\n",
    "shape = a.shape\n",
    "shape"
   ]
  },
  {
   "cell_type": "markdown",
   "metadata": {},
   "source": [
    "11. Find the data type of numpy array"
   ]
  },
  {
   "cell_type": "code",
   "execution_count": 45,
   "metadata": {},
   "outputs": [
    {
     "name": "stdout",
     "output_type": "stream",
     "text": [
      "int32\n"
     ]
    }
   ],
   "source": [
    "# print the data type of a \n",
    "print(a.dtype)"
   ]
  },
  {
   "cell_type": "markdown",
   "metadata": {},
   "source": [
    "12. Create a np array with desired data type"
   ]
  },
  {
   "cell_type": "code",
   "execution_count": 48,
   "metadata": {},
   "outputs": [
    {
     "name": "stdout",
     "output_type": "stream",
     "text": [
      "[[2. 3.]\n",
      " [3. 4.]]\n"
     ]
    }
   ],
   "source": [
    "# create an array with float data type\n",
    "x = np.array([\n",
    "    [2, 3],\n",
    "    [3, 4]\n",
    "], dtype=float)\n",
    "print(x)"
   ]
  },
  {
   "cell_type": "markdown",
   "metadata": {},
   "source": [
    "### Numpy Functions"
   ]
  },
  {
   "cell_type": "markdown",
   "metadata": {},
   "source": [
    "1. Mathematical Functions"
   ]
  },
  {
   "cell_type": "code",
   "execution_count": 57,
   "metadata": {},
   "outputs": [
    {
     "name": "stdout",
     "output_type": "stream",
     "text": [
      "sin a: [[ 0.84147098  0.90929743  0.14112001 -0.7568025 ]\n",
      " [-0.2794155   0.6569866   0.98935825  0.41211849]]\n"
     ]
    }
   ],
   "source": [
    "a = np.array([\n",
    "    [1, 2, 3, 4],\n",
    "    [6, 7, 8, 9]\n",
    "])\n",
    "\n",
    "# trigonometric functions sin/cos/tan\n",
    "print(f\"sin a: {np.sin(a)}\")"
   ]
  },
  {
   "cell_type": "code",
   "execution_count": 56,
   "metadata": {},
   "outputs": [
    {
     "name": "stdout",
     "output_type": "stream",
     "text": [
      "e^a: [[2.71828183e+00 7.38905610e+00 2.00855369e+01 5.45981500e+01]\n",
      " [4.03428793e+02 1.09663316e+03 2.98095799e+03 8.10308393e+03]]\n"
     ]
    }
   ],
   "source": [
    "# exponential function\n",
    "print(f\"e^a: {np.exp(a)}\")"
   ]
  },
  {
   "cell_type": "code",
   "execution_count": 58,
   "metadata": {},
   "outputs": [
    {
     "name": "stdout",
     "output_type": "stream",
     "text": [
      "log a: [[0.         0.69314718 1.09861229 1.38629436]\n",
      " [1.79175947 1.94591015 2.07944154 2.19722458]]\n"
     ]
    }
   ],
   "source": [
    "# logarithmic function\n",
    "print(f\"log a: {np.log(a)}\")"
   ]
  },
  {
   "cell_type": "code",
   "execution_count": 59,
   "metadata": {},
   "outputs": [
    {
     "name": "stdout",
     "output_type": "stream",
     "text": [
      "sqrt a: [[1.         1.41421356 1.73205081 2.        ]\n",
      " [2.44948974 2.64575131 2.82842712 3.        ]]\n"
     ]
    }
   ],
   "source": [
    "# square root function\n",
    "print(f\"sqrt a: {np.sqrt(a)}\")"
   ]
  },
  {
   "cell_type": "markdown",
   "metadata": {},
   "source": [
    "2. Aggregate Functions"
   ]
  },
  {
   "cell_type": "code",
   "execution_count": 64,
   "metadata": {},
   "outputs": [
    {
     "name": "stdout",
     "output_type": "stream",
     "text": [
      "Sum: 40 Min: 1 Max: 9\n",
      "Mean: 5.0 Median: 5.0 Standard Deviation: 2.7386127875258306\n"
     ]
    }
   ],
   "source": [
    "print(f\"Sum: {a.sum()} Min: {a.min()} Max: {a.max()}\")\n",
    "\n",
    "# statistical functions\n",
    "print(f\"Mean: {a.mean()} Median: {np.median(a)} Standard Deviation: {np.std(a)}\")"
   ]
  },
  {
   "cell_type": "markdown",
   "metadata": {},
   "source": [
    "3. Shape Manipulation Functions"
   ]
  },
  {
   "cell_type": "code",
   "execution_count": 69,
   "metadata": {},
   "outputs": [
    {
     "name": "stdout",
     "output_type": "stream",
     "text": [
      "Size: 8 Shape: (2, 4)\n",
      "[[1 2 3 4]\n",
      " [6 7 8 9]]\n"
     ]
    }
   ],
   "source": [
    "# reshape the array while maintaining the size\n",
    "print(f\"Size: {a.size} Shape: {a.shape}\")\n",
    "print(a)"
   ]
  },
  {
   "cell_type": "code",
   "execution_count": 75,
   "metadata": {},
   "outputs": [
    {
     "name": "stdout",
     "output_type": "stream",
     "text": [
      "Size: 8 Shape: (2, 2, 2)\n",
      "[[[1 2]\n",
      "  [3 4]]\n",
      "\n",
      " [[6 7]\n",
      "  [8 9]]]\n"
     ]
    }
   ],
   "source": [
    "# reshape a to a 3D array with a shape (2, 2, 2)\n",
    "a = a.reshape((2, 2, 2))\n",
    "print(f\"Size: {a.size} Shape: {a.shape}\")\n",
    "print(a)"
   ]
  },
  {
   "cell_type": "code",
   "execution_count": 72,
   "metadata": {},
   "outputs": [
    {
     "name": "stdout",
     "output_type": "stream",
     "text": [
      "Flatten: [1 2 3 4 6 7 8 9]\n"
     ]
    }
   ],
   "source": [
    "# flatten the array to one dimension\n",
    "print(f\"Flatten: {a.flatten()}\")"
   ]
  },
  {
   "cell_type": "code",
   "execution_count": 77,
   "metadata": {},
   "outputs": [
    {
     "name": "stdout",
     "output_type": "stream",
     "text": [
      "[[1 6]\n",
      " [2 7]\n",
      " [3 8]\n",
      " [4 9]]\n"
     ]
    }
   ],
   "source": [
    "# get the transpose of an array rows <--> cols\n",
    "a = np.array([\n",
    "    [1, 2, 3, 4],\n",
    "    [6, 7, 8, 9]\n",
    "])\n",
    "print(a.transpose())"
   ]
  },
  {
   "cell_type": "markdown",
   "metadata": {},
   "source": [
    "4. Join two arrays"
   ]
  },
  {
   "cell_type": "code",
   "execution_count": 82,
   "metadata": {},
   "outputs": [
    {
     "name": "stdout",
     "output_type": "stream",
     "text": [
      "Concatenate: [[ 1  2  3]\n",
      " [ 4  5  6]\n",
      " [10 20 30]\n",
      " [40 50 60]] Shape: (4, 3)\n",
      "Stack: [[[ 1  2  3]\n",
      "  [10 20 30]]\n",
      "\n",
      " [[ 4  5  6]\n",
      "  [40 50 60]]] Shape: (2, 2, 3)\n"
     ]
    }
   ],
   "source": [
    "x = np.array([\n",
    "    [1, 2, 3],\n",
    "    [4, 5, 6]\n",
    "])\n",
    "\n",
    "y = np.array([\n",
    "    [10, 20, 30],\n",
    "    [40, 50, 60]\n",
    "])\n",
    "\n",
    "# join row-wise without changing the dimensions\n",
    "c = np.concatenate((x, y))\n",
    "# stack creates a new dimension\n",
    "s = np.stack((x, y), axis=1)\n",
    "\n",
    "print(f\"Concatenate: {c} Shape: {c.shape}\")\n",
    "print(f\"Stack: {s} Shape: {s.shape}\")"
   ]
  }
 ],
 "metadata": {
  "kernelspec": {
   "display_name": "Python 3 (ipykernel)",
   "language": "python",
   "name": "python3"
  },
  "language_info": {
   "codemirror_mode": {
    "name": "ipython",
    "version": 3
   },
   "file_extension": ".py",
   "mimetype": "text/x-python",
   "name": "python",
   "nbconvert_exporter": "python",
   "pygments_lexer": "ipython3",
   "version": "3.10.6"
  },
  "vscode": {
   "interpreter": {
    "hash": "ec0e890b954293f34d16d4c104a129e3912c28c5e75cee8491611edc427a31d8"
   }
  }
 },
 "nbformat": 4,
 "nbformat_minor": 2
}
